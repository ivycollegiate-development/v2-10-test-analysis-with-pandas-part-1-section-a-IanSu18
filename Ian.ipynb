{
 "cells": [
  {
   "cell_type": "code",
   "execution_count": 2,
   "metadata": {},
   "outputs": [
    {
     "name": "stdout",
     "output_type": "stream",
     "text": [
      "First 5 rows:\n",
      "   Primary Key A # Pri. Ans.  # Correct % Correct  Discrim. Factor  \\\n",
      "0              1           B        3.0     23.1%           -0.000   \n",
      "1              2           C        5.0     38.5%            0.237   \n",
      "2              3           B        1.0      7.7%           -0.173   \n",
      "3              4           B        4.0     30.8%            0.425   \n",
      "4              5           A       11.0     84.6%            0.352   \n",
      "\n",
      "                 Responses  \n",
      "0         A:69% B:23% C:8%  \n",
      "1        C:38% A:38% B:23%  \n",
      "2    C:62% A:23% B:8% D:8%  \n",
      "3  B:31% A:31% D:23% C:15%  \n",
      "4              A:85% B:15%  \n",
      "\n",
      "DataFrame information:\n",
      "<class 'pandas.core.frame.DataFrame'>\n",
      "RangeIndex: 60 entries, 0 to 59\n",
      "Data columns (total 6 columns):\n",
      " #   Column           Non-Null Count  Dtype  \n",
      "---  ------           --------------  -----  \n",
      " 0   Primary Key A    60 non-null     int64  \n",
      " 1   # Pri. Ans.      60 non-null     object \n",
      " 2   # Correct        60 non-null     float64\n",
      " 3   % Correct        60 non-null     object \n",
      " 4   Discrim. Factor  59 non-null     float64\n",
      " 5   Responses        60 non-null     object \n",
      "dtypes: float64(2), int64(1), object(3)\n",
      "memory usage: 2.9+ KB\n",
      "None\n",
      "\n",
      "Summary statistics:\n",
      "       Primary Key A  # Correct  Discrim. Factor\n",
      "count      60.000000  60.000000        59.000000\n",
      "mean       30.500000   5.416667         0.258271\n",
      "std        17.464249   3.470416         0.289856\n",
      "min         1.000000   0.000000        -0.416000\n",
      "25%        15.750000   3.000000         0.065000\n",
      "50%        30.500000   5.000000         0.255000\n",
      "75%        45.250000   8.250000         0.472500\n",
      "max        60.000000  12.000000         0.712000\n"
     ]
    }
   ],
   "source": [
    "# pandas is a data manipulation library - we import it as pd by convention\n",
    "import pandas as pd\n",
    "# matplotlib is for creating visualizations - we import pyplot as plt by convention\n",
    "import matplotlib.pyplot as plt\n",
    "# read\n",
    "df = pd.read_csv('Pandas_Lesson_Grades.csv')\n",
    "# Display first 5 rows\n",
    "print(\"First 5 rows:\")\n",
    "print(df.head())\n",
    "# Display basic information about the DataFrame\n",
    "print(\"\\nDataFrame information:\")\n",
    "print(df.info())\n",
    "# Display summary statistics\n",
    "print(\"\\nSummary statistics:\")\n",
    "print(df.describe())"
   ]
  },
  {
   "cell_type": "code",
   "execution_count": 3,
   "metadata": {},
   "outputs": [
    {
     "name": "stdout",
     "output_type": "stream",
     "text": [
      "Primary answers column:\n",
      "0    B\n",
      "1    C\n",
      "2    B\n",
      "3    B\n",
      "4    A\n",
      "Name: # Pri. Ans., dtype: object\n",
      "\n",
      "Selected columns:\n",
      "   Primary Key A  # Correct % Correct\n",
      "0              1        3.0     23.1%\n",
      "1              2        5.0     38.5%\n",
      "2              3        1.0      7.7%\n",
      "3              4        4.0     30.8%\n",
      "4              5       11.0     84.6%\n",
      "\n",
      "Statistics for # Correct:\n",
      "count    60.000000\n",
      "mean      5.416667\n",
      "std       3.470416\n",
      "min       0.000000\n",
      "25%       3.000000\n",
      "50%       5.000000\n",
      "75%       8.250000\n",
      "max      12.000000\n",
      "Name: # Correct, dtype: float64\n"
     ]
    }
   ],
   "source": [
    "import pandas as pd\n",
    "# matplotlib is for creating visualizations - we import pyplot as plt by convention\n",
    "import matplotlib.pyplot as plt\n",
    "df = pd.read_csv('Pandas_Lesson_Grades.csv')\n",
    "# Select a single column using square brackets\n",
    "primary_answers = df['# Pri. Ans.']\n",
    "print(\"Primary answers column:\")\n",
    "print(primary_answers.head()) # What does this show?\n",
    "# Select multiple columns using a list of column names\n",
    "selected_columns = df[['Primary Key A','# Correct','% Correct']]\n",
    "print(\"\\nSelected columns:\")\n",
    "print(selected_columns.head()) # What does this show?\n",
    "# Basic statistics for numeric columns\n",
    "numeric_stats = df['# Correct'].describe()\n",
    "print(\"\\nStatistics for # Correct:\")\n",
    "print(numeric_stats) # List three statistics you see:_____, _____,"
   ]
  },
  {
   "cell_type": "code",
   "execution_count": 1,
   "metadata": {},
   "outputs": [
    {
     "name": "stdout",
     "output_type": "stream",
     "text": [
      "Average number correct: 5.416666666666667\n",
      "\n",
      "Distribution of primary answers:\n",
      "# Pri. Ans.\n",
      "A    30\n",
      "B    21\n",
      "D     7\n",
      "C     2\n",
      "Name: count, dtype: int64\n"
     ]
    }
   ],
   "source": [
    "import pandas as pd\n",
    "# matplotlib is for creating visualizations - we import pyplot as plt by convention\n",
    "import matplotlib.pyplot as plt\n",
    "# read_csv() is a pandas function that loads data from a CSV file into a DataFrame\n",
    "df = pd.read_csv('Pandas_Lesson_Grades.csv')\n",
    "# mean() calculates the average of a numeric column\n",
    "average_correct = df['# Correct'].mean()\n",
    "print(f\"Average number correct: {average_correct}\")\n",
    "# value_counts() shows frequency of unique values\n",
    "answer_distribution = df['# Pri. Ans.'].value_counts()\n",
    "print(\"\\nDistribution of primary answers:\")\n",
    "print(answer_distribution)\n",
    "# Your turn - calculate these statistics:\n",
    "median_correct = df['# Correct'].median() \n",
    "max_correct = df['# Correct'].max() \n",
    "min_correct = df['# Correct'].min() \n",
    "# Use the median function\n",
    "# Use the max function\n",
    "# Use the min function"
   ]
  },
  {
   "cell_type": "code",
   "execution_count": null,
   "metadata": {},
   "outputs": [],
   "source": [
    "# Boolean conditions create a Series of True/False values\n",
    "high_correct_mask = df['# Correct'] > 5\n",
    "print(\"Boolean mask:\")\n",
    "print(high_correct_mask.head())\n",
    "# Use the mask to filter the DataFrame\n",
    "high_correct_questions = df[high_correct_mask]\n",
    "print(\"\\nQuestions with more than 5 correct answers:\")\n",
    "print(high_correct_questions[['Primary Key A','# Correct']])\n",
    "# Your turn - create filters for:\n",
    "# Questions where 'A' was the primary answer\n",
    "a\n",
    "_questions = df[df['# Pri. Ans.'] ==____]\n",
    "# Questions with more than 50% correct (hint: use '% Correct' column)\n",
    "high_percentage = df[df['% Correct'] >____]"
   ]
  },
  {
   "cell_type": "code",
   "execution_count": null,
   "metadata": {},
   "outputs": [],
   "source": [
    "# Core data manipulation libraries\n",
    "import pandas as pd # For working with DataFrames\n",
    "import numpy as np # For numerical operations\n",
    "# Machine learning tools from scikit-learn\n",
    "from sklearn.model_selection import train_test_split # For creatingtraining/testing datasets\n",
    "from sklearn.linear_model import LinearRegression # Our basic prediction algorithm \n",
    "from sklearn.metrics import mean_squared_error, r2_score # For evaluating model performance\n",
    "# Visualization\n",
    "import matplotlib.pyplot as plt \n",
    "import seaborn as sns # For creating plots\n",
    "# For enhanced visualizations\n",
    "# Load the dataset\n",
    "df = pd.read_csv('Pandas_Lesson_Grades.csv')\n",
    "print(f\"Loaded dataset with {df.shape[0]} rows and {df.shape[1]} columns\")"
   ]
  },
  {
   "cell_type": "code",
   "execution_count": 3,
   "metadata": {},
   "outputs": [
    {
     "ename": "NameError",
     "evalue": "name 'df' is not defined",
     "output_type": "error",
     "traceback": [
      "\u001b[0;31m---------------------------------------------------------------------------\u001b[0m",
      "\u001b[0;31mNameError\u001b[0m                                 Traceback (most recent call last)",
      "Cell \u001b[0;32mIn[3], line 3\u001b[0m\n\u001b[1;32m      1\u001b[0m \u001b[38;5;66;03m# Convert percentage strings to floats\u001b[39;00m\n\u001b[1;32m      2\u001b[0m \u001b[38;5;66;03m# This removes the '%' symbol and converts to numeric values\u001b[39;00m\n\u001b[0;32m----> 3\u001b[0m df[\u001b[38;5;124m'\u001b[39m\u001b[38;5;124m%\u001b[39m\u001b[38;5;124m Correct\u001b[39m\u001b[38;5;124m'\u001b[39m] \u001b[38;5;241m=\u001b[39m \u001b[43mdf\u001b[49m[\u001b[38;5;124m'\u001b[39m\u001b[38;5;124m%\u001b[39m\u001b[38;5;124m Correct\u001b[39m\u001b[38;5;124m'\u001b[39m]\u001b[38;5;241m.\u001b[39mstr\u001b[38;5;241m.\u001b[39mrstrip(\u001b[38;5;124m'\u001b[39m\u001b[38;5;124m%\u001b[39m\u001b[38;5;124m'\u001b[39m)\u001b[38;5;241m.\u001b[39mastype(\u001b[38;5;28mfloat\u001b[39m)\n\u001b[1;32m      4\u001b[0m \u001b[38;5;66;03m# Let's examine the 'Responses' column to understand its structure\u001b[39;00m\n\u001b[1;32m      5\u001b[0m \u001b[38;5;28mprint\u001b[39m(\u001b[38;5;124m\"\u001b[39m\u001b[38;5;124mExample \u001b[39m\u001b[38;5;124m'\u001b[39m\u001b[38;5;124mResponses\u001b[39m\u001b[38;5;124m'\u001b[39m\u001b[38;5;124m values:\u001b[39m\u001b[38;5;124m\"\u001b[39m)\n",
      "\u001b[0;31mNameError\u001b[0m: name 'df' is not defined"
     ]
    }
   ],
   "source": [
    "# Convert percentage strings to floats\n",
    "# This removes the '%' symbol and converts to numeric values\n",
    "df['% Correct'] = df['% Correct'].str.rstrip('%').astype(float)\n",
    "# Let's examine the 'Responses' column to understand its structure\n",
    "print(\"Example 'Responses' values:\")\n",
    "print(df['Responses'].head(3))\n",
    "# This helper function extracts features from the response patterns\n",
    "# It's provided for you - review it to understand what it does\n",
    "def extract_response_features(response_str):\n",
    "\n",
    "\n",
    "#Extracts numerical features from response pattern strings like \"A:69%\n",
    "#B:23% C:8%\"\n",
    "#Parameters:\n",
    "#response_str (str): The response pattern string\n",
    "#Returns:\n",
    "#dict: Dictionary containing extracted features\n",
    "    features = {}   \n",
    "    responses = response_str.split()\n",
    "# Calculate number of options used\n",
    "    features['num_options'] = len(responses)\n",
    "# Calculate percentage for most popular wrong answer\n",
    "    percentages = []\n",
    "    for resp in responses:\n",
    "        option, pct = resp.split(':')\n",
    "        pct_value = float(pct.rstrip('%'))\n",
    "        percentages.append(pct_value)\n",
    "# Get primary answer and its percentage\n",
    "    primary_ans = df.loc[df['Responses'] == response_str, '#Pri Ans. '].values[0]\n",
    "    primary_pct = None\n",
    "    for resp in responses:\n",
    "        option, pct = resp.split(':')\n",
    "        if option == primary_ans:\n",
    "            primary_pct = float(pct.rstrip('%'))\n",
    "            break\n",
    "    features['primary_pct'] = primary_pct\n",
    "# Calculate response variance (spread of answers)\n",
    "    features['response_variance'] = np.var(percentages)\n",
    "    return features\n",
    "# Apply function to each row and create new feature columns\n",
    "# This creates new columns in our DataFrame\n",
    "response_features = df['Responses'].apply(extract_response_features)\n",
    "# Convert the dictionary results to DataFrame columns\n",
    "extracted_df = pd.json_normalize(response_features)\n",
    "# Join the new columns to our original DataFrame\n",
    "df = pd.concat([df, extracted_df], axis=1)\n",
    "# Display our new features\n",
    "print(\"\\nNewly created features:\")\n",
    "print(df[['num_options', 'primary_pct', 'response_variance']].head())"
   ]
  }
 ],
 "metadata": {
  "kernelspec": {
   "display_name": "Python 3",
   "language": "python",
   "name": "python3"
  },
  "language_info": {
   "codemirror_mode": {
    "name": "ipython",
    "version": 3
   },
   "file_extension": ".py",
   "mimetype": "text/x-python",
   "name": "python",
   "nbconvert_exporter": "python",
   "pygments_lexer": "ipython3",
   "version": "3.12.1"
  }
 },
 "nbformat": 4,
 "nbformat_minor": 2
}
